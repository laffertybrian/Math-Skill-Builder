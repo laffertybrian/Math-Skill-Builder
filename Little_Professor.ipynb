{
  "nbformat": 4,
  "nbformat_minor": 0,
  "metadata": {
    "colab": {
      "provenance": [],
      "authorship_tag": "ABX9TyN70oGJv+6LuuHtJZ0RG2Z2",
      "include_colab_link": true
    },
    "kernelspec": {
      "name": "python3",
      "display_name": "Python 3"
    },
    "language_info": {
      "name": "python"
    }
  },
  "cells": [
    {
      "cell_type": "markdown",
      "metadata": {
        "id": "view-in-github",
        "colab_type": "text"
      },
      "source": [
        "<a href=\"https://colab.research.google.com/github/laffertybrian/Math-Skill-Builder/blob/main/Little_Professor.ipynb\" target=\"_parent\"><img src=\"https://colab.research.google.com/assets/colab-badge.svg\" alt=\"Open In Colab\"/></a>"
      ]
    },
    {
      "cell_type": "code",
      "execution_count": 6,
      "metadata": {
        "colab": {
          "base_uri": "https://localhost:8080/"
        },
        "id": "Rr6bTVaUNVT7",
        "outputId": "4a2144a5-797a-448c-d45b-b1eb34a9ae42"
      },
      "outputs": [
        {
          "output_type": "stream",
          "name": "stdout",
          "text": [
            "Overwriting professor.py\n"
          ]
        }
      ],
      "source": [
        "%%writefile professor.py\n",
        "import random\n",
        "\n",
        "\n",
        "def main():\n",
        "\n",
        "    level = get_level()\n",
        "\n",
        "    operator = get_operator()\n",
        "\n",
        "    final_score = 0\n",
        "\n",
        "    for _ in range(2):\n",
        "        details = create_problem(level, operator)\n",
        "        score = check_solution(*details)\n",
        "        final_score += score\n",
        "\n",
        "    print(f'Score: {final_score}')\n",
        "\n",
        "def get_level():\n",
        "    print('Level 1 for single digit, 2 for double, and 3 for triple digit numbers!')\n",
        "    print('Or 4 to customize your number range.')\n",
        "    while True:\n",
        "        try:\n",
        "            level = int(input('Level: '))\n",
        "        except ValueError:\n",
        "            pass\n",
        "        if level == 4:\n",
        "          while True:\n",
        "            try:\n",
        "              num_range = input('Number range X-Y: ').split('-')\n",
        "            except ValueError:\n",
        "              pass\n",
        "            global cus_x\n",
        "            cus_x = int(num_range[0])\n",
        "            global cus_y\n",
        "            cus_y = int(num_range[1])\n",
        "            break\n",
        "        if level in [1, 2, 3, 4]:\n",
        "          return level\n",
        "\n",
        "def get_operator():\n",
        "  while True:\n",
        "    try:\n",
        "      operator = input(\"Pick your operator [+, -, *, /]: \")\n",
        "      if operator in ['+', '-', '*', '/']:\n",
        "        return operator\n",
        "    except ValueError:\n",
        "      pass\n",
        "\n",
        "\n",
        "def generate_integer(level):\n",
        "    if level == 1:\n",
        "        return random.randint(0,9)\n",
        "    if level == 2:\n",
        "        return random.randint(10, 99)\n",
        "    if level == 3:\n",
        "        return random.randint(100, 999)\n",
        "    if level == 4:\n",
        "        return random.randint(cus_x, cus_y)\n",
        "\n",
        "def create_problem(level, operator):\n",
        "    x = generate_integer(level)\n",
        "    y = generate_integer(level)\n",
        "\n",
        "    if operator != '/':\n",
        "      answer = int(input(f'{x} {operator} {y} = '))\n",
        "\n",
        "      if operator == '+':\n",
        "        ans = x + y\n",
        "      elif operator == '-':\n",
        "        ans = x - y\n",
        "      elif operator == '*':\n",
        "        ans = x * y\n",
        "\n",
        "      return [x, y, ans, answer, operator]\n",
        "      \n",
        "    else:\n",
        "      answer = int(input(f'{x * y} {operator} {y} = '))\n",
        "\n",
        "      ans = x\n",
        "\n",
        "      return [x, y, ans, answer, operator]\n",
        "\n",
        "def check_solution(first, second, solution, response, operator):\n",
        "    tries = 0\n",
        "\n",
        "    if solution == response:\n",
        "        return 1\n",
        "    else:\n",
        "        while tries < 2:\n",
        "            print('EEE')\n",
        "            again = int(input(f'{first} {operator} {second} = '))\n",
        "            if again == solution:\n",
        "                return 0\n",
        "            tries += 1\n",
        "\n",
        "    print('EEE')\n",
        "    print(f'Correct answer: {first} {operator} {second} = {solution}')\n",
        "    return 0\n",
        "\n",
        "\n",
        "if __name__ == \"__main__\":\n",
        "    main()"
      ]
    },
    {
      "cell_type": "code",
      "source": [
        "%run professor.py"
      ],
      "metadata": {
        "colab": {
          "base_uri": "https://localhost:8080/"
        },
        "id": "Wu-7unIVLE50",
        "outputId": "74cff120-ba50-4ea2-f88f-069319315e88"
      },
      "execution_count": 9,
      "outputs": [
        {
          "output_type": "stream",
          "name": "stdout",
          "text": [
            "Level 1 for single digit, 2 for double, and 3 for triple digit numbers!\n",
            "Or 4 to customize your number range.\n",
            "Level: 4\n",
            "Number range X-Y: 0-12\n",
            "Pick your operator [+, -, *, /]: *\n",
            "3 * 10 = 30\n",
            "7 * 8 = 56\n",
            "Score: 2\n"
          ]
        }
      ]
    }
  ]
}