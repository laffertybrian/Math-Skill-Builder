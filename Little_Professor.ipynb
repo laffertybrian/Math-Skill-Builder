{
  "nbformat": 4,
  "nbformat_minor": 0,
  "metadata": {
    "colab": {
      "provenance": [],
      "mount_file_id": "129K0yfk0srO9TT4h2hJar9EZHmeK-0q9",
      "authorship_tag": "ABX9TyM8nwrNXni+B/JY4ShIPzdK",
      "include_colab_link": true
    },
    "kernelspec": {
      "name": "python3",
      "display_name": "Python 3"
    },
    "language_info": {
      "name": "python"
    }
  },
  "cells": [
    {
      "cell_type": "markdown",
      "metadata": {
        "id": "view-in-github",
        "colab_type": "text"
      },
      "source": [
        "<a href=\"https://colab.research.google.com/github/laffertybrian/Math-Skill-Builder/blob/main/Little_Professor.ipynb\" target=\"_parent\"><img src=\"https://colab.research.google.com/assets/colab-badge.svg\" alt=\"Open In Colab\"/></a>"
      ]
    },
    {
      "cell_type": "code",
      "execution_count": 23,
      "metadata": {
        "colab": {
          "base_uri": "https://localhost:8080/"
        },
        "id": "Rr6bTVaUNVT7",
        "outputId": "5f0ca042-8aac-413e-c816-c7b61276492a"
      },
      "outputs": [
        {
          "output_type": "stream",
          "name": "stdout",
          "text": [
            "Overwriting professor.py\n"
          ]
        }
      ],
      "source": [
        "%%writefile professor.py\n",
        "import random\n",
        "\n",
        "\n",
        "def main():\n",
        "\n",
        "    level = get_level()\n",
        "\n",
        "    rounds = get_rounds()\n",
        "\n",
        "    operator = get_operator()\n",
        "\n",
        "    final_score = 0\n",
        "\n",
        "    for _ in range(rounds):\n",
        "        details = create_problem(level, operator)\n",
        "        score = check_solution(*details)\n",
        "        final_score += score\n",
        "\n",
        "    print(f'Score: {final_score}')\n",
        "\n",
        "def get_level():\n",
        "    print('Level 1 for single digit, 2 for double, and 3 for triple digit numbers!')\n",
        "    print('Or 4 to customize your number range.')\n",
        "    while True:\n",
        "        try:\n",
        "            level = int(input('Level: '))\n",
        "        except ValueError:\n",
        "            pass\n",
        "        if level == 4:\n",
        "          while True:\n",
        "            try:\n",
        "              num_range = input('Number range X-Y: ').split('-')\n",
        "            except ValueError:\n",
        "              pass\n",
        "            global cus_x\n",
        "            cus_x = int(num_range[0])\n",
        "            global cus_y\n",
        "            cus_y = int(num_range[1])\n",
        "            break\n",
        "        if level in [1, 2, 3, 4]:\n",
        "          return level\n",
        "\n",
        "def get_rounds():\n",
        "    rounds = int(input('How many questions would you like? '))\n",
        "    return rounds\n",
        "\n",
        "def get_operator():\n",
        "  while True:\n",
        "    try:\n",
        "      operator = input(\"Pick your operator [+, -, *, /]: \")\n",
        "      if operator in ['+', '-', '*', '/']:\n",
        "        return operator\n",
        "    except ValueError:\n",
        "      pass\n",
        "\n",
        "\n",
        "def generate_integer(level):\n",
        "    if level == 1:\n",
        "        return random.randint(0,9)\n",
        "    if level == 2:\n",
        "        return random.randint(10, 99)\n",
        "    if level == 3:\n",
        "        return random.randint(100, 999)\n",
        "    if level == 4:\n",
        "        return random.randint(cus_x, cus_y)\n",
        "\n",
        "def create_problem(level, operator):\n",
        "    x = generate_integer(level)\n",
        "    y = generate_integer(level)\n",
        "\n",
        "    if operator != '/':\n",
        "      answer = int(input(f'{x} {operator} {y} = '))\n",
        "\n",
        "      if operator == '+':\n",
        "        ans = x + y\n",
        "      elif operator == '-':\n",
        "        ans = x - y\n",
        "      elif operator == '*':\n",
        "        ans = x * y\n",
        "\n",
        "      return [x, y, ans, answer, operator]\n",
        "      \n",
        "    else:\n",
        "      answer = int(input(f'{x * y} {operator} {y} = '))\n",
        "\n",
        "      ans = x\n",
        "\n",
        "      return [x, y, ans, answer, operator]\n",
        "\n",
        "def check_solution(first, second, solution, response, operator):\n",
        "    tries = 0\n",
        "\n",
        "    if solution == response:\n",
        "        return 1\n",
        "    else:\n",
        "        while tries < 2:\n",
        "            print('EEE')\n",
        "            again = int(input(f'{first} {operator} {second} = '))\n",
        "            if again == solution:\n",
        "                return 0\n",
        "            tries += 1\n",
        "\n",
        "    print('EEE')\n",
        "    print(f'Correct answer: {first} {operator} {second} = {solution}')\n",
        "    return 0\n",
        "\n",
        "\n",
        "if __name__ == \"__main__\":\n",
        "    main()"
      ]
    },
    {
      "cell_type": "code",
      "source": [
        "%run professor.py"
      ],
      "metadata": {
        "colab": {
          "base_uri": "https://localhost:8080/"
        },
        "id": "Wu-7unIVLE50",
        "outputId": "b7d76dbb-7fef-464f-dc2c-2275b7fb19ef"
      },
      "execution_count": 24,
      "outputs": [
        {
          "output_type": "stream",
          "name": "stdout",
          "text": [
            "Level 1 for single digit, 2 for double, and 3 for triple digit numbers!\n",
            "Or 4 to customize your number range.\n",
            "Level: 1\n",
            "How many questions would you like? 3\n",
            "Pick your operator [+, -, *, /]: +\n",
            "1 + 6 = 7\n",
            "0 + 8 = 8\n",
            "7 + 8 = 15\n",
            "Score: 3\n"
          ]
        }
      ]
    },
    {
      "cell_type": "code",
      "source": [
        "# Creating data storage and retrieval\n",
        "# imports\n",
        "import csv, os\n",
        "import pandas as pd\n",
        "\n",
        "# name of file for storage\n",
        "file_name = \"little_professor_game_resutls\"\n",
        "\n",
        "# building folder within directory\n",
        "FOLDER = \"/content/drive/MyDrive/Data Science Projects/Math_Skill_Builder/Data\"\n",
        "os.makedirs(FOLDER, exist_ok = True)\n",
        "# os.listdir(FOLDER)\n",
        "\n",
        "# combine name / location of file to store game resluts\n",
        "folderfile = FOLDER + file_name\n",
        "\n",
        "# list of field names for the storage file\n",
        "fieldnames = ['Player_Name', 'Score']\n",
        "\n",
        "# function to record a round of game play\n",
        "def record_game(results):\n",
        "  #folderfile = FOLDER + file_name\n",
        "  file_exists = os.path.isfile(folderfile)\n",
        "  if file_exists:\n",
        "    with open(folderfile, 'a', newline = '') as f:\n",
        "      writer = csv.DictWriter(f, fieldnames = fieldnames)\n",
        "      writer.writerow(results)\n",
        "\n",
        "  else:\n",
        "    with open(folderfile, 'w', newline = '') as f:\n",
        "      writer = csv.DictWriter(f, fieldnames = fieldnames)\n",
        "      writer.writeheader()\n",
        "      writer.writerow(results)\n",
        "\n",
        "# function to retrive game data in dataframe\n",
        "def game_results():\n",
        "  with open(folderfile, 'r') as f:\n",
        "    reader = csv.DictReader(f)\n",
        "    results_df = pd.DataFrame(reader)\n",
        "\n",
        "  return results_df  "
      ],
      "metadata": {
        "id": "2ZRmv9p32vvC"
      },
      "execution_count": 17,
      "outputs": []
    }
  ]
}