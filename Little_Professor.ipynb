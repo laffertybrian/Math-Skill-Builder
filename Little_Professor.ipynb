{
  "nbformat": 4,
  "nbformat_minor": 0,
  "metadata": {
    "colab": {
      "provenance": [],
      "mount_file_id": "129K0yfk0srO9TT4h2hJar9EZHmeK-0q9",
      "authorship_tag": "ABX9TyN1feKgycq3fjkucDAjgLKV",
      "include_colab_link": true
    },
    "kernelspec": {
      "name": "python3",
      "display_name": "Python 3"
    },
    "language_info": {
      "name": "python"
    }
  },
  "cells": [
    {
      "cell_type": "markdown",
      "metadata": {
        "id": "view-in-github",
        "colab_type": "text"
      },
      "source": [
        "<a href=\"https://colab.research.google.com/github/laffertybrian/Math-Skill-Builder/blob/main/Little_Professor.ipynb\" target=\"_parent\"><img src=\"https://colab.research.google.com/assets/colab-badge.svg\" alt=\"Open In Colab\"/></a>"
      ]
    },
    {
      "cell_type": "code",
      "execution_count": 11,
      "metadata": {
        "colab": {
          "base_uri": "https://localhost:8080/"
        },
        "id": "Rr6bTVaUNVT7",
        "outputId": "204a91e2-f6d3-4b77-bf67-dec432af7e84"
      },
      "outputs": [
        {
          "output_type": "stream",
          "name": "stdout",
          "text": [
            "Overwriting professor.py\n"
          ]
        }
      ],
      "source": [
        "%%writefile professor.py\n",
        "import random, csv, os\n",
        "\n",
        "# variables for file storage\n",
        "game_results_storage = \"little_professor_game_resutls\"\n",
        "player_settings_storage = \"player_settings\"\n",
        "FOLDER = \"/content/drive/MyDrive/Data Science Projects/Math_Skill_Builder/Data/\"\n",
        "\n",
        "# creating folder for storage\n",
        "os.makedirs(FOLDER, exist_ok = True)\n",
        "\n",
        "game_results_fieldnames = ['Player_Name', 'First_Number', 'Second_Number', 'Answer', 'Operator', 'Player_Answer', 'Correct', 'Prediction']\n",
        "player_settings_fieldnames = ['Player_Name', 'Score', 'Level', 'Rounds', 'Operator']\n",
        "\n",
        "def main():\n",
        "\n",
        "    level = get_level()\n",
        "\n",
        "    rounds = get_rounds()\n",
        "\n",
        "    operator = get_operator()\n",
        "\n",
        "    final_score = 0\n",
        "\n",
        "    for _ in range(rounds):\n",
        "        details = create_problem(level, operator)\n",
        "        score = check_solution(*details)\n",
        "        final_score += score\n",
        "\n",
        "    record_to_file(game_results_storage, {'Player_Name': 'Test', \n",
        "    'Score': final_score, 'Level': level, 'Rounds': rounds, \n",
        "    'Operator': operator}, player_settings_fieldnames)\n",
        "\n",
        "    print(f'Score: {final_score}')\n",
        "\n",
        "def get_name():\n",
        "  while True:\n",
        "    name = input('Name: ')\n",
        "\n",
        "    df = game_results()\n",
        "    if name in df['Player_Name'].tolist():\n",
        "      print('Another player has that name, choose another.')\n",
        "    else:\n",
        "      return name\n",
        "\n",
        "def get_level():\n",
        "    print('Level 1 for single digit, 2 for double, and 3 for triple digit numbers!')\n",
        "    print('Or 4 to customize your number range.')\n",
        "    start_settings = []\n",
        "    while True:\n",
        "        try:\n",
        "            level = int(input('Level: '))\n",
        "            if level in [1, 2, 3, 4]:\n",
        "              break\n",
        "        except ValueError:\n",
        "            pass\n",
        "    start_settings.append(level)            \n",
        "    if start_settings[0] == 4:\n",
        "        while True:\n",
        "          try:\n",
        "            num_range = input('Number range X-Y: ').split('-')\n",
        "            cus_x = int(num_range[0])\n",
        "            start_settings.append(cus_x)\n",
        "            cus_y = int(num_range[1])\n",
        "            start_settings.append(cus_y)\n",
        "            break\n",
        "          except ValueError:\n",
        "            pass\n",
        "    return start_settings\n",
        "\n",
        "def get_rounds():\n",
        "  while True:\n",
        "    try:\n",
        "      rounds = int(input('How many questions would you like? '))\n",
        "      return rounds\n",
        "    except ValueError:\n",
        "      pass\n",
        "\n",
        "def get_operator():\n",
        "  while True:\n",
        "    try:\n",
        "      operator = input(\"Pick your operator [+, -, *, /]: \")\n",
        "      if operator in ['+', '-', '*', '/']:\n",
        "        return operator\n",
        "    except ValueError:\n",
        "      pass\n",
        "\n",
        "\n",
        "def generate_integer(level):\n",
        "    if level[0] == 1:\n",
        "        return random.randint(0,9)\n",
        "    if level[0] == 2:\n",
        "        return random.randint(10, 99)\n",
        "    if level[0] == 3:\n",
        "        return random.randint(100, 999)\n",
        "    if level[0] == 4:\n",
        "        return random.randint(level[1], level[2])\n",
        "\n",
        "def create_problem(level, operator):\n",
        "    x = generate_integer(level)\n",
        "    y = generate_integer(level)\n",
        "\n",
        "    if operator != '/':\n",
        "      answer = int(input(f'{x} {operator} {y} = '))\n",
        "\n",
        "      if operator == '+':\n",
        "        ans = x + y\n",
        "      elif operator == '-':\n",
        "        ans = x - y\n",
        "      elif operator == '*':\n",
        "        ans = x * y\n",
        "\n",
        "      return [x, y, ans, answer, operator]\n",
        "      \n",
        "    else:\n",
        "      answer = int(input(f'{x * y} {operator} {y} = '))\n",
        "\n",
        "      product = x * y\n",
        "      ans = x\n",
        "\n",
        "      return [product, y, ans, answer, operator]\n",
        "\n",
        "def check_solution(first, second, solution, response, operator):\n",
        "    tries = 0\n",
        "\n",
        "    if solution == response:\n",
        "        return 1\n",
        "    else:\n",
        "        while tries < 2:\n",
        "            print('EEE')\n",
        "            again = int(input(f'{first} {operator} {second} = '))\n",
        "            if again == solution:\n",
        "                return 0\n",
        "            tries += 1\n",
        "\n",
        "    print('EEE')\n",
        "    print(f'Correct answer: {first} {operator} {second} = {solution}')\n",
        "    return 0\n",
        "\n",
        "def record_to_file(file, results, fieldnames):\n",
        "  folderfile = FOLDER + file\n",
        "  file_exists = os.path.isfile(file)\n",
        "  if file_exists:\n",
        "    with open(file, 'a', newline = '') as f:\n",
        "      writer = csv.DictWriter(f, fieldnames = fieldnames)\n",
        "      writer.writerow(results)\n",
        "\n",
        "  else:\n",
        "    with open(file, 'w', newline = '') as f:\n",
        "      writer = csv.DictWriter(f, fieldnames = fieldnames)\n",
        "      writer.writeheader()\n",
        "      writer.writerow(results)\n",
        "\n",
        "def retrieve_from_file(file):\n",
        "  folderfile = FOLDER + file\n",
        "  with open(folderfile, 'r') as f:\n",
        "    reader = csv.DictReader(f)\n",
        "    results_df = pd.DataFrame(reader)\n",
        "  return results_df\n",
        "\n",
        "if __name__ == \"__main__\":\n",
        "    main()"
      ]
    },
    {
      "cell_type": "code",
      "source": [
        "%run professor.py"
      ],
      "metadata": {
        "colab": {
          "base_uri": "https://localhost:8080/"
        },
        "id": "Wu-7unIVLE50",
        "outputId": "4049c173-d99b-4381-b256-98ba8de63481"
      },
      "execution_count": 12,
      "outputs": [
        {
          "output_type": "stream",
          "name": "stdout",
          "text": [
            "Level 1 for single digit, 2 for double, and 3 for triple digit numbers!\n",
            "Or 4 to customize your number range.\n",
            "Level: 4\n",
            "Number range X-Y: 4-9\n",
            "How many questions would you like? 2\n",
            "Pick your operator [+, -, *, /]: /\n",
            "42 / 7 = 5\n",
            "EEE\n",
            "42 / 7 = 6\n",
            "32 / 8 = 5\n",
            "EEE\n",
            "32 / 8 = 2\n",
            "EEE\n",
            "32 / 8 = 3\n",
            "EEE\n",
            "Correct answer: 32 / 8 = 4\n",
            "Score: 0\n"
          ]
        }
      ]
    },
    {
      "cell_type": "code",
      "source": [
        "# Creating data storage and retrieval\n",
        "# imports\n",
        "import csv, os\n",
        "import pandas as pd\n",
        "\n",
        "# name of file for storage\n",
        "game_results_storage = \"little_professor_game_resutls\"\n",
        "player_settings_storage = \"player_settings\"\n",
        "\n",
        "# building folder within directory\n",
        "FOLDER = \"/content/drive/MyDrive/Data Science Projects/Math_Skill_Builder/Data/\"\n",
        "os.makedirs(FOLDER, exist_ok = True)\n",
        "# os.listdir(FOLDER)\n",
        "\n",
        "# list of field names for the storage file\n",
        "fieldnames = ['Player_Name', 'Score']\n",
        "\n",
        "# function to record a round of game play\n",
        "def record_to_file(file, results):\n",
        "  folderfile = FOLDER + file\n",
        "  file_exists = os.path.isfile(file)\n",
        "  if file_exists:\n",
        "    with open(file, 'a', newline = '') as f:\n",
        "      writer = csv.DictWriter(f, fieldnames = fieldnames)\n",
        "      writer.writerow(results)\n",
        "\n",
        "  else:\n",
        "    with open(file, 'w', newline = '') as f:\n",
        "      writer = csv.DictWriter(f, fieldnames = fieldnames)\n",
        "      writer.writeheader()\n",
        "      writer.writerow(results)\n",
        "\n",
        "# function to retrive game data in dataframe\n",
        "def retrieve_from_file(file):\n",
        "  folderfile = FOLDER + file\n",
        "  with open(folderfile, 'r') as f:\n",
        "    reader = csv.DictReader(f)\n",
        "    results_df = pd.DataFrame(reader)\n",
        "  return results_df  "
      ],
      "metadata": {
        "id": "2ZRmv9p32vvC"
      },
      "execution_count": 2,
      "outputs": []
    },
    {
      "cell_type": "code",
      "source": [
        "#record_game(score_card)\n",
        "results = retrieve_from_file()\n",
        "results"
      ],
      "metadata": {
        "colab": {
          "base_uri": "https://localhost:8080/",
          "height": 269
        },
        "id": "b_ggIO8BG9Hy",
        "outputId": "45baf939-dd28-41dc-d3ef-48450fc2a934"
      },
      "execution_count": 15,
      "outputs": [
        {
          "output_type": "execute_result",
          "data": {
            "text/plain": [
              "  Player_Name Score       Level Rounds Operator\n",
              "0        Test     5  [4, 0, 12]      5        *\n",
              "1        Test     6   [4, 4, 7]      6        -\n",
              "2        Test     9  [4, 0, 12]     10        *\n",
              "3        Test    10  [4, 0, 12]     10        /\n",
              "4        Test     2   [4, 1, 2]      2        +\n",
              "5        Test     9  [4, 1, 12]     10        *\n",
              "6        Test    12  [4, 1, 12]     12        *"
            ],
            "text/html": [
              "\n",
              "  <div id=\"df-bd9716b6-5792-452b-8600-cbe20284fcee\">\n",
              "    <div class=\"colab-df-container\">\n",
              "      <div>\n",
              "<style scoped>\n",
              "    .dataframe tbody tr th:only-of-type {\n",
              "        vertical-align: middle;\n",
              "    }\n",
              "\n",
              "    .dataframe tbody tr th {\n",
              "        vertical-align: top;\n",
              "    }\n",
              "\n",
              "    .dataframe thead th {\n",
              "        text-align: right;\n",
              "    }\n",
              "</style>\n",
              "<table border=\"1\" class=\"dataframe\">\n",
              "  <thead>\n",
              "    <tr style=\"text-align: right;\">\n",
              "      <th></th>\n",
              "      <th>Player_Name</th>\n",
              "      <th>Score</th>\n",
              "      <th>Level</th>\n",
              "      <th>Rounds</th>\n",
              "      <th>Operator</th>\n",
              "    </tr>\n",
              "  </thead>\n",
              "  <tbody>\n",
              "    <tr>\n",
              "      <th>0</th>\n",
              "      <td>Test</td>\n",
              "      <td>5</td>\n",
              "      <td>[4, 0, 12]</td>\n",
              "      <td>5</td>\n",
              "      <td>*</td>\n",
              "    </tr>\n",
              "    <tr>\n",
              "      <th>1</th>\n",
              "      <td>Test</td>\n",
              "      <td>6</td>\n",
              "      <td>[4, 4, 7]</td>\n",
              "      <td>6</td>\n",
              "      <td>-</td>\n",
              "    </tr>\n",
              "    <tr>\n",
              "      <th>2</th>\n",
              "      <td>Test</td>\n",
              "      <td>9</td>\n",
              "      <td>[4, 0, 12]</td>\n",
              "      <td>10</td>\n",
              "      <td>*</td>\n",
              "    </tr>\n",
              "    <tr>\n",
              "      <th>3</th>\n",
              "      <td>Test</td>\n",
              "      <td>10</td>\n",
              "      <td>[4, 0, 12]</td>\n",
              "      <td>10</td>\n",
              "      <td>/</td>\n",
              "    </tr>\n",
              "    <tr>\n",
              "      <th>4</th>\n",
              "      <td>Test</td>\n",
              "      <td>2</td>\n",
              "      <td>[4, 1, 2]</td>\n",
              "      <td>2</td>\n",
              "      <td>+</td>\n",
              "    </tr>\n",
              "    <tr>\n",
              "      <th>5</th>\n",
              "      <td>Test</td>\n",
              "      <td>9</td>\n",
              "      <td>[4, 1, 12]</td>\n",
              "      <td>10</td>\n",
              "      <td>*</td>\n",
              "    </tr>\n",
              "    <tr>\n",
              "      <th>6</th>\n",
              "      <td>Test</td>\n",
              "      <td>12</td>\n",
              "      <td>[4, 1, 12]</td>\n",
              "      <td>12</td>\n",
              "      <td>*</td>\n",
              "    </tr>\n",
              "  </tbody>\n",
              "</table>\n",
              "</div>\n",
              "      <button class=\"colab-df-convert\" onclick=\"convertToInteractive('df-bd9716b6-5792-452b-8600-cbe20284fcee')\"\n",
              "              title=\"Convert this dataframe to an interactive table.\"\n",
              "              style=\"display:none;\">\n",
              "        \n",
              "  <svg xmlns=\"http://www.w3.org/2000/svg\" height=\"24px\"viewBox=\"0 0 24 24\"\n",
              "       width=\"24px\">\n",
              "    <path d=\"M0 0h24v24H0V0z\" fill=\"none\"/>\n",
              "    <path d=\"M18.56 5.44l.94 2.06.94-2.06 2.06-.94-2.06-.94-.94-2.06-.94 2.06-2.06.94zm-11 1L8.5 8.5l.94-2.06 2.06-.94-2.06-.94L8.5 2.5l-.94 2.06-2.06.94zm10 10l.94 2.06.94-2.06 2.06-.94-2.06-.94-.94-2.06-.94 2.06-2.06.94z\"/><path d=\"M17.41 7.96l-1.37-1.37c-.4-.4-.92-.59-1.43-.59-.52 0-1.04.2-1.43.59L10.3 9.45l-7.72 7.72c-.78.78-.78 2.05 0 2.83L4 21.41c.39.39.9.59 1.41.59.51 0 1.02-.2 1.41-.59l7.78-7.78 2.81-2.81c.8-.78.8-2.07 0-2.86zM5.41 20L4 18.59l7.72-7.72 1.47 1.35L5.41 20z\"/>\n",
              "  </svg>\n",
              "      </button>\n",
              "      \n",
              "  <style>\n",
              "    .colab-df-container {\n",
              "      display:flex;\n",
              "      flex-wrap:wrap;\n",
              "      gap: 12px;\n",
              "    }\n",
              "\n",
              "    .colab-df-convert {\n",
              "      background-color: #E8F0FE;\n",
              "      border: none;\n",
              "      border-radius: 50%;\n",
              "      cursor: pointer;\n",
              "      display: none;\n",
              "      fill: #1967D2;\n",
              "      height: 32px;\n",
              "      padding: 0 0 0 0;\n",
              "      width: 32px;\n",
              "    }\n",
              "\n",
              "    .colab-df-convert:hover {\n",
              "      background-color: #E2EBFA;\n",
              "      box-shadow: 0px 1px 2px rgba(60, 64, 67, 0.3), 0px 1px 3px 1px rgba(60, 64, 67, 0.15);\n",
              "      fill: #174EA6;\n",
              "    }\n",
              "\n",
              "    [theme=dark] .colab-df-convert {\n",
              "      background-color: #3B4455;\n",
              "      fill: #D2E3FC;\n",
              "    }\n",
              "\n",
              "    [theme=dark] .colab-df-convert:hover {\n",
              "      background-color: #434B5C;\n",
              "      box-shadow: 0px 1px 3px 1px rgba(0, 0, 0, 0.15);\n",
              "      filter: drop-shadow(0px 1px 2px rgba(0, 0, 0, 0.3));\n",
              "      fill: #FFFFFF;\n",
              "    }\n",
              "  </style>\n",
              "\n",
              "      <script>\n",
              "        const buttonEl =\n",
              "          document.querySelector('#df-bd9716b6-5792-452b-8600-cbe20284fcee button.colab-df-convert');\n",
              "        buttonEl.style.display =\n",
              "          google.colab.kernel.accessAllowed ? 'block' : 'none';\n",
              "\n",
              "        async function convertToInteractive(key) {\n",
              "          const element = document.querySelector('#df-bd9716b6-5792-452b-8600-cbe20284fcee');\n",
              "          const dataTable =\n",
              "            await google.colab.kernel.invokeFunction('convertToInteractive',\n",
              "                                                     [key], {});\n",
              "          if (!dataTable) return;\n",
              "\n",
              "          const docLinkHtml = 'Like what you see? Visit the ' +\n",
              "            '<a target=\"_blank\" href=https://colab.research.google.com/notebooks/data_table.ipynb>data table notebook</a>'\n",
              "            + ' to learn more about interactive tables.';\n",
              "          element.innerHTML = '';\n",
              "          dataTable['output_type'] = 'display_data';\n",
              "          await google.colab.output.renderOutput(dataTable, element);\n",
              "          const docLink = document.createElement('div');\n",
              "          docLink.innerHTML = docLinkHtml;\n",
              "          element.appendChild(docLink);\n",
              "        }\n",
              "      </script>\n",
              "    </div>\n",
              "  </div>\n",
              "  "
            ]
          },
          "metadata": {},
          "execution_count": 15
        }
      ]
    },
    {
      "cell_type": "code",
      "source": [
        "# create player class to store and import all saved information\n",
        "\n",
        "class Player:\n",
        "\n",
        "  def __init__(self, name = '', level = 0, rounds = 0, operator = ''):\n",
        "    self.name = name\n",
        "    self.level = level\n",
        "    self.rounds = rounds\n",
        "    self.operator = operator\n",
        "\n",
        "  def __str__(self):\n",
        "    ...\n",
        "  \n",
        "  @classmethod\n",
        "  def get(cls):\n",
        "    name = get_name()\n",
        "    level = get_level()\n",
        "    rounds = get_rounds()\n",
        "    operator = get_operator()\n",
        "    return cls(name, level, rounds, operator)\n",
        "\n",
        "  def reset_settings(self):\n",
        "    self.level = get_level()\n",
        "    self.rounds = get_rounds()\n",
        "    self.operator = get_operator()\n",
        "\n",
        "  def export(self):\n",
        "    return {'Name': self.name, 'Level': self.level, 'Rounds': self.rounds, 'Operator': self.operator}\n",
        "\n",
        "\n",
        "\n",
        "def get_name():\n",
        "  while True:\n",
        "    name = input('Name: ')\n",
        "\n",
        "    df = game_results()\n",
        "    if name in df['Player_Name'].tolist():\n",
        "      print('Another player has that name, choose another.')\n",
        "    else:\n",
        "      return name\n",
        "\n",
        "def get_level():\n",
        "  print('Level 1 for single digit, 2 for double, and 3 for triple digit numbers!')\n",
        "  print('Or 4 to customize your number range.')\n",
        "  start_settings = []\n",
        "  while True:\n",
        "      try:\n",
        "          level = int(input('Level: '))\n",
        "          if level in [1, 2, 3, 4]:\n",
        "            break\n",
        "      except ValueError:\n",
        "          pass\n",
        "  start_settings.append(level)            \n",
        "  if start_settings[0] == 4:\n",
        "      while True:\n",
        "        try:\n",
        "          num_range = input('Number range X-Y: ').split('-')\n",
        "          cus_x = int(num_range[0])\n",
        "          start_settings.append(cus_x)\n",
        "          cus_y = int(num_range[1])\n",
        "          start_settings.append(cus_y)\n",
        "          break\n",
        "        except ValueError:\n",
        "          pass\n",
        "  return start_settings\n",
        "\n",
        "def get_rounds():\n",
        "  while True:\n",
        "    try:\n",
        "      rounds = int(input('How many questions would you like? '))\n",
        "      return rounds\n",
        "    except ValueError:\n",
        "      pass\n",
        "\n",
        "def get_operator():\n",
        "  while True:\n",
        "    try:\n",
        "      operator = input(\"Pick your operator [+, -, *, /]: \")\n",
        "      if operator in ['+', '-', '*', '/']:\n",
        "        return operator\n",
        "    except ValueError:\n",
        "      pass\n"
      ],
      "metadata": {
        "id": "cG-DRyFlhhX2"
      },
      "execution_count": 33,
      "outputs": []
    },
    {
      "cell_type": "code",
      "source": [
        "test_class_player = Player.get()\n",
        "test_class_player.level"
      ],
      "metadata": {
        "colab": {
          "base_uri": "https://localhost:8080/"
        },
        "id": "OEAt85tevbJe",
        "outputId": "e29dbc47-0ca2-4258-b83b-7be3d7fa35c7"
      },
      "execution_count": 34,
      "outputs": [
        {
          "name": "stdout",
          "output_type": "stream",
          "text": [
            "Name: Brian\n",
            "Level 1 for single digit, 2 for double, and 3 for triple digit numbers!\n",
            "Or 4 to customize your number range.\n",
            "Level: 1\n",
            "How many questions would you like? 0\n",
            "Pick your operator [+, -, *, /]: -\n"
          ]
        },
        {
          "output_type": "execute_result",
          "data": {
            "text/plain": [
              "[1]"
            ]
          },
          "metadata": {},
          "execution_count": 34
        }
      ]
    },
    {
      "cell_type": "code",
      "source": [
        "test_class_player1 = Player()\n",
        "test_class_player1.reset_settings()\n",
        "test_class_player1.level"
      ],
      "metadata": {
        "colab": {
          "base_uri": "https://localhost:8080/"
        },
        "id": "GvdMtTpErpbE",
        "outputId": "7e2019c3-a5b0-4e0f-c115-6afa7b42a183"
      },
      "execution_count": 38,
      "outputs": [
        {
          "name": "stdout",
          "output_type": "stream",
          "text": [
            "Level 1 for single digit, 2 for double, and 3 for triple digit numbers!\n",
            "Or 4 to customize your number range.\n",
            "Level: 4\n",
            "Number range X-Y: 1-2\n",
            "How many questions would you like? 9\n",
            "Pick your operator [+, -, *, /]: -\n"
          ]
        },
        {
          "output_type": "execute_result",
          "data": {
            "text/plain": [
              "[4, 1, 2]"
            ]
          },
          "metadata": {},
          "execution_count": 38
        }
      ]
    },
    {
      "cell_type": "code",
      "source": [
        "# function to introduce game, create or retrieve unique player information\n",
        "\n",
        "def welcome():\n",
        "  print('Welcome to Little Professor! A math skill building game.')\n",
        "  player_name = input('Enter your player name, or if you are new here type New: ')\n",
        "\n",
        "  df = game_results()\n",
        "  if player_name in df['Player_Name'].tolist():\n",
        "    print(\"Welcome Back\")\n",
        "    use_last = input('Would you like to use the settings from your last game? (Y or N)')\n",
        "    \n",
        "  else:\n",
        "    print(\"This is your first time, let me ask you some questions first.\")\n",
        "\n",
        "  "
      ],
      "metadata": {
        "id": "Ez99s9vsOnfV"
      },
      "execution_count": 25,
      "outputs": []
    },
    {
      "cell_type": "code",
      "source": [
        "welcome()"
      ],
      "metadata": {
        "colab": {
          "base_uri": "https://localhost:8080/"
        },
        "id": "VHdYhlORQx_i",
        "outputId": "99130e6b-b7d5-4a56-df77-bb0757497939"
      },
      "execution_count": 59,
      "outputs": [
        {
          "output_type": "stream",
          "name": "stdout",
          "text": [
            "Welcome to Little Professor! A math skill building game.\n",
            "Enter your player name, or if you are new here type New: Test\n",
            "0    Test\n",
            "Name: Player_Name, dtype: object\n",
            "Welcome Back\n"
          ]
        }
      ]
    },
    {
      "cell_type": "code",
      "source": [
        "test_dict = {'level': 4, 'rounds': 7, 'operator': '*', 'name': \"Test\"}\n",
        "test_player = Player(**test_dict)\n",
        "test_player.name"
      ],
      "metadata": {
        "colab": {
          "base_uri": "https://localhost:8080/",
          "height": 35
        },
        "id": "WmLBJxNnbaMX",
        "outputId": "4814b479-9f20-489b-9265-997c960d23b2"
      },
      "execution_count": 37,
      "outputs": [
        {
          "output_type": "execute_result",
          "data": {
            "text/plain": [
              "'Test'"
            ],
            "application/vnd.google.colaboratory.intrinsic+json": {
              "type": "string"
            }
          },
          "metadata": {},
          "execution_count": 37
        }
      ]
    },
    {
      "cell_type": "code",
      "source": [
        "# creating a function to get a users name and check it agaisnt others in saved dataset\n",
        "def get_name():\n",
        "  while True:\n",
        "    name = input('Name: ')\n",
        "\n",
        "    df = game_results()\n",
        "    if name in df['Player_Name'].tolist():\n",
        "      print('Another player has that name, choose another.')\n",
        "    else:\n",
        "      return name\n"
      ],
      "metadata": {
        "id": "mKAROJYRNn-y"
      },
      "execution_count": 6,
      "outputs": []
    },
    {
      "cell_type": "code",
      "source": [
        "my_name_is = get_name()\n",
        "print(my_name_is)"
      ],
      "metadata": {
        "colab": {
          "base_uri": "https://localhost:8080/"
        },
        "id": "ezQv1f1KO6m4",
        "outputId": "03e93e5c-8b11-4030-c898-27f079e8f4af"
      },
      "execution_count": 8,
      "outputs": [
        {
          "output_type": "stream",
          "name": "stdout",
          "text": [
            "Name: Test\n",
            "Another player has that name, choose another.\n",
            "Name: Brian\n",
            "Brian\n"
          ]
        }
      ]
    }
  ]
}